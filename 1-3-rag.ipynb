{
 "cells": [
  {
   "cell_type": "code",
   "execution_count": 1,
   "id": "d5ba1258-1a4d-4897-a777-fd555bffae97",
   "metadata": {
    "ExecutionIndicator": {
     "show": true
    },
    "execution": {
     "iopub.execute_input": "2024-05-21T05:30:26.518937Z",
     "iopub.status.busy": "2024-05-21T05:30:26.518512Z",
     "iopub.status.idle": "2024-05-21T05:30:31.446721Z",
     "shell.execute_reply": "2024-05-21T05:30:31.446139Z",
     "shell.execute_reply.started": "2024-05-21T05:30:26.518905Z"
    },
    "tags": []
   },
   "outputs": [
    {
     "name": "stdout",
     "output_type": "stream",
     "text": [
      "\u001b[33mDEPRECATION: pytorch-lightning 1.7.7 has a non-standard dependency specifier torch>=1.9.*. pip 24.1 will enforce this behaviour change. A possible replacement is to upgrade to a newer version of pytorch-lightning or contact the author to suggest that they release a version with a conforming dependency specifiers. Discussion can be found at https://github.com/pypa/pip/issues/12063\u001b[0m\u001b[33m\n",
      "\u001b[0m\u001b[33mWARNING: Running pip as the 'root' user can result in broken permissions and conflicting behaviour with the system package manager. It is recommended to use a virtual environment instead: https://pip.pypa.io/warnings/venv\u001b[0m\u001b[33m\n",
      "\u001b[0m"
     ]
    }
   ],
   "source": [
    "! pip install -U langchain langchainhub langchain-community langchain-openai chromadb BeautifulSoup4 --quiet"
   ]
  },
  {
   "cell_type": "code",
   "execution_count": 2,
   "id": "cb3a13f3-8bed-4d06-94b5-e5b858ae37b4",
   "metadata": {
    "ExecutionIndicator": {
     "show": false
    },
    "execution": {
     "iopub.execute_input": "2024-05-21T05:30:32.838552Z",
     "iopub.status.busy": "2024-05-21T05:30:32.838081Z",
     "iopub.status.idle": "2024-05-21T05:31:34.369346Z",
     "shell.execute_reply": "2024-05-21T05:31:34.368741Z",
     "shell.execute_reply.started": "2024-05-21T05:30:32.838517Z"
    },
    "tags": []
   },
   "outputs": [
    {
     "name": "stderr",
     "output_type": "stream",
     "text": [
      "2024-05-21 13:30:49,941 - modelscope - INFO - PyTorch version 2.1.2+cpu Found.\n",
      "2024-05-21 13:30:49,943 - modelscope - INFO - TensorFlow version 2.14.0 Found.\n",
      "2024-05-21 13:30:49,944 - modelscope - INFO - Loading ast index from /mnt/workspace/.cache/modelscope/ast_indexer\n",
      "2024-05-21 13:30:49,944 - modelscope - INFO - No valid ast index found from /mnt/workspace/.cache/modelscope/ast_indexer, generating ast index from prebuilt!\n",
      "2024-05-21 13:30:49,996 - modelscope - INFO - Loading done! Current index file version is 1.14.0, with md5 aacbf9e8ebe525a5896d4c89570c0097 and a total number of 976 components indexed\n",
      "/opt/conda/lib/python3.10/site-packages/tqdm/auto.py:21: TqdmWarning: IProgress not found. Please update jupyter and ipywidgets. See https://ipywidgets.readthedocs.io/en/stable/user_install.html\n",
      "  from .autonotebook import tqdm as notebook_tqdm\n",
      "2024-05-21 13:30:51,844 - modelscope - WARNING - Model revision not specified, use revision: v1.1.0\n",
      "Downloading: 100%|██████████| 917/917 [00:00<00:00, 6.15MB/s]\n",
      "Downloading: 100%|██████████| 2.29k/2.29k [00:00<00:00, 15.0MB/s]\n",
      "Downloading: 100%|██████████| 60.7k/60.7k [00:00<00:00, 15.4MB/s]\n",
      "Downloading: 100%|██████████| 195M/195M [00:00<00:00, 262MB/s]  \n",
      "Downloading: 100%|██████████| 11.4k/11.4k [00:00<00:00, 34.7MB/s]\n",
      "Downloading: 100%|██████████| 125/125 [00:00<00:00, 850kB/s]\n",
      "Downloading: 100%|██████████| 429k/429k [00:00<00:00, 14.3MB/s]\n",
      "Downloading: 100%|██████████| 366/366 [00:00<00:00, 1.45MB/s]\n",
      "2024-05-21 13:30:56,608 - modelscope - INFO - initiate model from /mnt/workspace/.cache/modelscope/iic/nlp_gte_sentence-embedding_chinese-base\n",
      "2024-05-21 13:30:56,608 - modelscope - INFO - initiate model from location /mnt/workspace/.cache/modelscope/iic/nlp_gte_sentence-embedding_chinese-base.\n",
      "2024-05-21 13:30:56,609 - modelscope - INFO - initialize model from /mnt/workspace/.cache/modelscope/iic/nlp_gte_sentence-embedding_chinese-base\n",
      "/opt/conda/lib/python3.10/site-packages/torch/_utils.py:831: UserWarning: TypedStorage is deprecated. It will be removed in the future and UntypedStorage will be the only storage class. This should only matter to you if you are using storages directly.  To access UntypedStorage directly, use tensor.untyped_storage() instead of tensor.storage()\n",
      "  return self.fget.__get__(instance, owner)()\n",
      "2024-05-21 13:31:02,126 - modelscope - WARNING - No preprocessor field found in cfg.\n",
      "2024-05-21 13:31:02,127 - modelscope - WARNING - No val key and type key found in preprocessor domain of configuration.json file.\n",
      "2024-05-21 13:31:02,127 - modelscope - WARNING - Cannot find available config to build preprocessor at mode inference, current config: {'model_dir': '/mnt/workspace/.cache/modelscope/iic/nlp_gte_sentence-embedding_chinese-base'}. trying to build by task and model information.\n",
      "2024-05-21 13:31:02,148 - modelscope - INFO - cuda is not available, using cpu instead.\n",
      "2024-05-21 13:31:02,149 - modelscope - WARNING - No preprocessor field found in cfg.\n",
      "2024-05-21 13:31:02,149 - modelscope - WARNING - No val key and type key found in preprocessor domain of configuration.json file.\n",
      "2024-05-21 13:31:02,149 - modelscope - WARNING - Cannot find available config to build preprocessor at mode inference, current config: {'model_dir': '/mnt/workspace/.cache/modelscope/iic/nlp_gte_sentence-embedding_chinese-base', 'sequence_length': 128}. trying to build by task and model information.\n",
      "/opt/conda/lib/python3.10/site-packages/transformers/modeling_utils.py:962: FutureWarning: The `device` argument is deprecated and will be removed in v5 of Transformers.\n",
      "  warnings.warn(\n"
     ]
    }
   ],
   "source": [
    "# Load docs\n",
    "from langchain_community.document_loaders import WebBaseLoader\n",
    "from langchain_community.vectorstores import Chroma\n",
    "from langchain_text_splitters import RecursiveCharacterTextSplitter\n",
    "from langchain_openai import ChatOpenAI\n",
    "import bs4\n",
    "\n",
    "loader = WebBaseLoader(\n",
    "    web_paths=(\"https://lilianweng.github.io/posts/2023-06-23-agent/\",),\n",
    "    bs_kwargs=dict(\n",
    "        # 仅解析网页中特定的 HTML 类（class），以减少处理的数据量。\n",
    "        parse_only=bs4.SoupStrainer(\n",
    "            class_=(\"post-content\", \"post-title\", \"post-header\")\n",
    "        )\n",
    "    ),\n",
    ")\n",
    "\n",
    "\n",
    "data = loader.load()\n",
    "\n",
    "text_splitter = RecursiveCharacterTextSplitter(chunk_size=500, chunk_overlap=0)\n",
    "all_splits = text_splitter.split_documents(data)\n",
    "\n",
    "from langchain_community.embeddings import ModelScopeEmbeddings\n",
    "\n",
    "model_id = \"iic/nlp_gte_sentence-embedding_chinese-base\"\n",
    "embeddings = ModelScopeEmbeddings(model_id=model_id)\n",
    "\n",
    "vectorstore = Chroma.from_documents(documents=all_splits, embedding=embeddings)\n",
    "\n",
    "llm = ChatOpenAI(\n",
    "    temperature=0.95,\n",
    "    model=\"glm-4\",\n",
    "    openai_api_key=\"712873090557c357188b37720d819703.pu7vBZJUK7LbHzSa\",\n",
    "    openai_api_base=\"https://open.bigmodel.cn/api/paas/v4/\"\n",
    ")"
   ]
  },
  {
   "cell_type": "code",
   "execution_count": 7,
   "id": "6da910a9-2d35-4124-9a7e-466b3f1e1eee",
   "metadata": {
    "ExecutionIndicator": {
     "show": false
    },
    "execution": {
     "iopub.execute_input": "2024-05-20T02:00:45.560891Z",
     "iopub.status.busy": "2024-05-20T02:00:45.560382Z",
     "iopub.status.idle": "2024-05-20T02:00:52.309796Z",
     "shell.execute_reply": "2024-05-20T02:00:52.309294Z",
     "shell.execute_reply.started": "2024-05-20T02:00:45.560870Z"
    },
    "tags": []
   },
   "outputs": [],
   "source": [
    "from langchain import hub\n",
    "\n",
    "prompt = hub.pull(\"rlm/rag-prompt\")"
   ]
  },
  {
   "cell_type": "code",
   "execution_count": 8,
   "id": "8aec7ffa-83ea-4462-885c-460a082e60c7",
   "metadata": {
    "ExecutionIndicator": {
     "show": true
    },
    "execution": {
     "iopub.execute_input": "2024-05-20T02:00:54.040836Z",
     "iopub.status.busy": "2024-05-20T02:00:54.040477Z",
     "iopub.status.idle": "2024-05-20T02:00:57.823574Z",
     "shell.execute_reply": "2024-05-20T02:00:57.823075Z",
     "shell.execute_reply.started": "2024-05-20T02:00:54.040817Z"
    },
    "tags": []
   },
   "outputs": [
    {
     "name": "stderr",
     "output_type": "stream",
     "text": [
      "/opt/conda/lib/python3.10/site-packages/transformers/modeling_utils.py:962: FutureWarning: The `device` argument is deprecated and will be removed in v5 of Transformers.\n",
      "  warnings.warn(\n"
     ]
    },
    {
     "data": {
      "text/plain": [
       "'Task Decomposition 是一种将复杂任务分解成更小、更易于管理的子目标的方法，这有助于有效地处理复杂任务。通过这种方法，智能体可以规划步骤，进行自我批评和反思，从而在未来的行动中改进并提高最终成果的质量。在长期规划和任务分解方面存在的挑战包括：在漫长的历史中做计划，以及在遭遇意外错误时，有效地探索解决方案空间和调整计划等。'"
      ]
     },
     "execution_count": 8,
     "metadata": {},
     "output_type": "execute_result"
    }
   ],
   "source": [
    "from langchain_core.runnables import RunnableParallel, RunnablePassthrough\n",
    "from langchain_core.output_parsers import StrOutputParser\n",
    "\n",
    "def format_docs(docs):\n",
    "    return \"\\n\\n\".join(doc.page_content for doc in docs)\n",
    "\n",
    "retriever = vectorstore.as_retriever()\n",
    "\n",
    "rag_chain = (\n",
    "    {\"context\": retriever | format_docs, \"question\": RunnablePassthrough()}\n",
    "    | prompt\n",
    "    | llm\n",
    "    | StrOutputParser()\n",
    ")\n",
    "\n",
    "rag_chain.invoke(\"什么是 Task Decomposition?\")\n",
    "\n",
    "# question = \"What are the approaches to Task Decomposition?\"\n",
    "# result = qa_chain({\"query\": question})\n",
    "# result[\"result\"]"
   ]
  }
 ],
 "metadata": {
  "kernelspec": {
   "display_name": "Python 3 (ipykernel)",
   "language": "python",
   "name": "python3"
  },
  "language_info": {
   "codemirror_mode": {
    "name": "ipython",
    "version": 3
   },
   "file_extension": ".py",
   "mimetype": "text/x-python",
   "name": "python",
   "nbconvert_exporter": "python",
   "pygments_lexer": "ipython3",
   "version": "3.10.14"
  }
 },
 "nbformat": 4,
 "nbformat_minor": 5
}
