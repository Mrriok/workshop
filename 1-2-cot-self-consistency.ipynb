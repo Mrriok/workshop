{
 "cells": [
  {
   "cell_type": "code",
   "execution_count": 1,
   "id": "26662add-6322-444e-a687-7b0400923174",
   "metadata": {
    "ExecutionIndicator": {
     "show": true
    },
    "execution": {
     "iopub.execute_input": "2024-10-28T00:25:15.627816Z",
     "iopub.status.busy": "2024-10-28T00:25:15.627501Z",
     "iopub.status.idle": "2024-10-28T00:25:22.049503Z",
     "shell.execute_reply": "2024-10-28T00:25:22.048936Z",
     "shell.execute_reply.started": "2024-10-28T00:25:15.627796Z"
    },
    "tags": []
   },
   "outputs": [
    {
     "name": "stdout",
     "output_type": "stream",
     "text": [
      "\u001b[33mWARNING: Running pip as the 'root' user can result in broken permissions and conflicting behaviour with the system package manager. It is recommended to use a virtual environment instead: https://pip.pypa.io/warnings/venv\u001b[0m\u001b[33m\n",
      "\u001b[0m\n",
      "\u001b[1m[\u001b[0m\u001b[34;49mnotice\u001b[0m\u001b[1;39;49m]\u001b[0m\u001b[39;49m A new release of pip is available: \u001b[0m\u001b[31;49m23.0.1\u001b[0m\u001b[39;49m -> \u001b[0m\u001b[32;49m24.3.1\u001b[0m\n",
      "\u001b[1m[\u001b[0m\u001b[34;49mnotice\u001b[0m\u001b[1;39;49m]\u001b[0m\u001b[39;49m To update, run: \u001b[0m\u001b[32;49mpip install --upgrade pip\u001b[0m\n"
     ]
    }
   ],
   "source": [
    "! pip install -U langchain langchainhub langchain-community langchain-openai  --quiet"
   ]
  },
  {
   "cell_type": "code",
   "execution_count": 2,
   "id": "691e1e10-5630-4961-888d-b88074b6cb3d",
   "metadata": {
    "ExecutionIndicator": {
     "show": true
    },
    "execution": {
     "iopub.execute_input": "2024-10-28T00:25:49.857353Z",
     "iopub.status.busy": "2024-10-28T00:25:49.856891Z",
     "iopub.status.idle": "2024-10-28T00:25:58.834810Z",
     "shell.execute_reply": "2024-10-28T00:25:58.834351Z",
     "shell.execute_reply.started": "2024-10-28T00:25:49.857332Z"
    },
    "tags": []
   },
   "outputs": [
    {
     "name": "stderr",
     "output_type": "stream",
     "text": [
      "/tmp/ipykernel_523/2943118764.py:13: LangChainDeprecationWarning: The class `ChatOpenAI` was deprecated in LangChain 0.0.10 and will be removed in 1.0. An updated version of the class exists in the :class:`~langchain-openai package and should be used instead. To use it run `pip install -U :class:`~langchain-openai` and import as `from :class:`~langchain_openai import ChatOpenAI``.\n",
      "  llm = ChatOpenAI(\n",
      "/tmp/ipykernel_523/2943118764.py:19: LangChainDeprecationWarning: The class `LLMChain` was deprecated in LangChain 0.1.17 and will be removed in 1.0. Use :meth:`~RunnableSequence, e.g., `prompt | llm`` instead.\n",
      "  solutions_chain = LLMChain(\n",
      "/tmp/ipykernel_523/2943118764.py:24: LangChainDeprecationWarning: The method `Chain.run` was deprecated in langchain 0.1.0 and will be removed in 1.0. Use :meth:`~invoke` instead.\n",
      "  print(solutions_chain.run(\n"
     ]
    },
    {
     "name": "stdout",
     "output_type": "stream",
     "text": [
      "1. 周朝 (Zhou Dynasty): Lasting approximately 800 years from 1046 BCE to 256 BCE, the Zhou Dynasty is often considered the longest in Chinese history.\n",
      "\n",
      "2. 汉朝 (Han Dynasty): Although not the longest, the Han Dynasty is one of the most influential and is commonly mistaken for the longest. It lasted around 426 years from 206 BCE to 220 CE.\n",
      "\n",
      "3. 宋朝 (Song Dynasty): With two distinct periods, the Northern Song and Southern Song, the Song Dynasty is among the longest, lasting around 321 years from 960 to 1279.\n",
      "\n",
      "4. 明朝 (Ming Dynasty): The Ming Dynasty is the longest dynasty ruled by a single family, lasting 276 years from 1368 to 1644.\n",
      "\n",
      "5. 清朝 (Qing Dynasty): While not the longest, the Qing Dynasty is notable for being the last imperial dynasty, lasting for 268 years from 1644 to 1912.\n",
      "\n",
      "To clarify, the question asks for the longest dynasty, and while the Zhou Dynasty was indeed the longest, the other answers provided are distinct and notable for different reasons, such as influence, duration of a single-family rule, or being among the longest-lasting dynasties.\n"
     ]
    }
   ],
   "source": [
    "from langchain import PromptTemplate, LLMChain\n",
    "from langchain.chat_models import ChatOpenAI\n",
    "\n",
    "solutions_template = \"\"\"\n",
    "Generate {num_solutions} distinct answers to this question:\n",
    "{question}\n",
    "Solutions:\n",
    "\"\"\"\n",
    "solutions_prompt = PromptTemplate(\n",
    "   template=solutions_template,\n",
    "   input_variables=[\"question\", \"num_solutions\"]\n",
    ")\n",
    "llm = ChatOpenAI(\n",
    "    temperature=0.95,\n",
    "    model=\"glm-4\",\n",
    "    openai_api_key=\"712873090557c357188b37720d819703.pu7vBZJUK7LbHzSa\",\n",
    "    openai_api_base=\"https://open.bigmodel.cn/api/paas/v4/\"\n",
    ")\n",
    "solutions_chain = LLMChain(\n",
    "   llm=llm,\n",
    "   prompt=solutions_prompt,\n",
    "   output_key=\"solutions\"\n",
    ")\n",
    "print(solutions_chain.run(\n",
    "   question=\"中国历史上最长的朝代是是哪个?\",\n",
    "   num_solutions=\"5\"\n",
    "))"
   ]
  },
  {
   "cell_type": "code",
   "execution_count": 9,
   "id": "e48b3faf-95c6-48e1-8a99-c5171ccd9b42",
   "metadata": {
    "ExecutionIndicator": {
     "show": false
    },
    "execution": {
     "iopub.execute_input": "2024-05-20T03:17:05.719042Z",
     "iopub.status.busy": "2024-05-20T03:17:05.718734Z",
     "iopub.status.idle": "2024-05-20T03:17:05.722042Z",
     "shell.execute_reply": "2024-05-20T03:17:05.721643Z",
     "shell.execute_reply.started": "2024-05-20T03:17:05.719024Z"
    },
    "tags": []
   },
   "outputs": [],
   "source": [
    "consistency_template = \"\"\"\n",
    "For each answer in {solutions}, count the number of times it occurs. Finally, choose the answer that occurs most.\n",
    "Most frequent solution: \n",
    "\"\"\"\n",
    "consistency_prompt = PromptTemplate(\n",
    "   template=consistency_template,\n",
    "   input_variables=[\"solutions\"]\n",
    ")\n",
    "consistency_chain = LLMChain(\n",
    "   llm=llm,\n",
    "   prompt=consistency_prompt,\n",
    "   output_key=\"best_solution\"\n",
    ")"
   ]
  },
  {
   "cell_type": "code",
   "execution_count": 10,
   "id": "b2086afb-9f7e-4fb8-8085-2214e3d69fdc",
   "metadata": {
    "ExecutionIndicator": {
     "show": false
    },
    "execution": {
     "iopub.execute_input": "2024-05-20T03:17:07.655912Z",
     "iopub.status.busy": "2024-05-20T03:17:07.655597Z",
     "iopub.status.idle": "2024-05-20T03:17:07.662719Z",
     "shell.execute_reply": "2024-05-20T03:17:07.662260Z",
     "shell.execute_reply.started": "2024-05-20T03:17:07.655894Z"
    },
    "tags": []
   },
   "outputs": [],
   "source": [
    "from langchain.chains import SequentialChain\n",
    "\n",
    "answer_chain = SequentialChain(\n",
    "   chains=[solutions_chain, consistency_chain],\n",
    "   input_variables=[\"question\", \"num_solutions\"],\n",
    "   output_variables=[\"best_solution\"]\n",
    ")"
   ]
  },
  {
   "cell_type": "code",
   "execution_count": 12,
   "id": "62ac1a1a-4397-43dd-97ae-6cbc29be0b22",
   "metadata": {
    "ExecutionIndicator": {
     "show": true
    },
    "execution": {
     "iopub.execute_input": "2024-05-20T03:19:27.120178Z",
     "iopub.status.busy": "2024-05-20T03:19:27.119862Z",
     "iopub.status.idle": "2024-05-20T03:19:45.856816Z",
     "shell.execute_reply": "2024-05-20T03:19:45.856325Z",
     "shell.execute_reply.started": "2024-05-20T03:19:27.120160Z"
    },
    "tags": []
   },
   "outputs": [
    {
     "name": "stdout",
     "output_type": "stream",
     "text": [
      "在这五个答案中，\"周朝\"作为关键词出现频次最高，每个答案中都提到了一次。而对于周朝持续时间的描述，“791年”这个数字也出现了五次。\n",
      "\n",
      "如果按照提及的具体内容来看，“周朝是中国历史上最长的朝代”这个观点在每个答案中也出现了一次。\n",
      "\n",
      "由于所有答案中周朝的提及次数和关于它是最长朝代的描述次数相同，我们可以认为这五个答案的频率是相等的，没有哪一个答案在内容上出现得最多。\n",
      "\n",
      "但是，如果要选择一个最频繁出现的“答案样式”，那么可以看出：\n",
      "\n",
      "- 答案1、2、3和5都提到了“周朝是中国历史上最长的朝代”，并且给出了具体的时间跨度和持续时间。\n",
      "- 答案4在提到周朝的长久历史之外，还额外提到了这一时期的社会过渡性质。\n",
      "\n",
      "如果我们依据“提及周朝为中国历史上最长朝代以及给出具体持续时间”这一核心内容来判断，那么所有的答案样式都是一样频繁的。但如果考虑到答案4提供了额外的信息，可以认为它是在内容上提供了更多信息的“最频繁”样式。\n",
      "\n",
      "因此，如果我们必须选择一个，那么：\n",
      "\n",
      "最频繁的样式是：答案1、2、3和5（因为这四个答案内容表述最相似，都强调了周朝是最长的朝代并给出了持续时间）。但由于频率相同，通常会选择第一个答案作为标准答案，即：\n",
      "\n",
      "Most frequent solution: \n",
      "1. 中国历史上最长的朝代是周朝。周朝自公元前1046年建立，一直持续到公元前256年，经历了东周和西周两个时期，共计791年。\n"
     ]
    }
   ],
   "source": [
    "print(answer_chain.run(\n",
    "   question=\"中国历史上最长的朝代是是哪个?\",\n",
    "   num_solutions=\"5\"\n",
    "))\n"
   ]
  }
 ],
 "metadata": {
  "kernelspec": {
   "display_name": "Python 3 (ipykernel)",
   "language": "python",
   "name": "python3"
  },
  "language_info": {
   "codemirror_mode": {
    "name": "ipython",
    "version": 3
   },
   "file_extension": ".py",
   "mimetype": "text/x-python",
   "name": "python",
   "nbconvert_exporter": "python",
   "pygments_lexer": "ipython3",
   "version": "3.10.14"
  }
 },
 "nbformat": 4,
 "nbformat_minor": 5
}
