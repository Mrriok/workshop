{
 "cells": [
  {
   "cell_type": "code",
   "execution_count": null,
   "id": "0a714848-57c5-4704-89c8-51bf75ae4296",
   "metadata": {
    "ExecutionIndicator": {
     "show": true
    },
    "tags": []
   },
   "outputs": [],
   "source": [
    "! pip install --upgrade 'openai>=1.0' --quiet"
   ]
  },
  {
   "cell_type": "code",
   "execution_count": 2,
   "id": "8831ca74-5729-401a-a9fa-606cd7fc9c66",
   "metadata": {
    "ExecutionIndicator": {
     "show": true
    },
    "execution": {
     "iopub.execute_input": "2024-05-20T11:30:11.689330Z",
     "iopub.status.busy": "2024-05-20T11:30:11.689077Z",
     "iopub.status.idle": "2024-05-20T11:30:24.522815Z",
     "shell.execute_reply": "2024-05-20T11:30:24.521620Z",
     "shell.execute_reply.started": "2024-05-20T11:30:11.689313Z"
    },
    "tags": []
   },
   "outputs": [
    {
     "name": "stdout",
     "output_type": "stream",
     "text": [
      "\u001b[33mDEPRECATION: pytorch-lightning 1.7.7 has a non-standard dependency specifier torch>=1.9.*. pip 24.1 will enforce this behaviour change. A possible replacement is to upgrade to a newer version of pytorch-lightning or contact the author to suggest that they release a version with a conforming dependency specifiers. Discussion can be found at https://github.com/pypa/pip/issues/12063\u001b[0m\u001b[33m\n",
      "\u001b[0m\u001b[31mERROR: pip's dependency resolver does not currently take into account all the packages that are installed. This behaviour is the source of the following dependency conflicts.\n",
      "conda 23.9.0 requires ruamel-yaml<0.18,>=0.11.14, but you have ruamel-yaml 0.18.6 which is incompatible.\n",
      "pai-easycv 0.11.6 requires timm==0.5.4, but you have timm 0.9.16 which is incompatible.\n",
      "tensorflow 2.14.0 requires tensorboard<2.15,>=2.14, but you have tensorboard 2.16.2 which is incompatible.\u001b[0m\u001b[31m\n",
      "\u001b[0m\u001b[33mWARNING: Running pip as the 'root' user can result in broken permissions and conflicting behaviour with the system package manager. It is recommended to use a virtual environment instead: https://pip.pypa.io/warnings/venv\u001b[0m\u001b[33m\n",
      "\u001b[0m"
     ]
    }
   ],
   "source": [
    "! pip install langchain langchainhub httpx_sse langchain-openai --quiet"
   ]
  },
  {
   "cell_type": "code",
   "execution_count": 3,
   "id": "61193270-1220-45c3-9bc0-ab1f02b2e630",
   "metadata": {
    "ExecutionIndicator": {
     "show": false
    },
    "execution": {
     "iopub.execute_input": "2024-05-20T11:30:24.524784Z",
     "iopub.status.busy": "2024-05-20T11:30:24.524375Z",
     "iopub.status.idle": "2024-05-20T11:30:31.690636Z",
     "shell.execute_reply": "2024-05-20T11:30:31.689848Z",
     "shell.execute_reply.started": "2024-05-20T11:30:24.524755Z"
    },
    "tags": []
   },
   "outputs": [
    {
     "name": "stderr",
     "output_type": "stream",
     "text": [
      "/opt/conda/lib/python3.10/site-packages/langchain_core/_api/deprecation.py:119: LangChainDeprecationWarning: The class `LLMChain` was deprecated in LangChain 0.1.17 and will be removed in 0.3.0. Use RunnableSequence, e.g., `prompt | llm` instead.\n",
      "  warn_deprecated(\n"
     ]
    },
    {
     "name": "stdout",
     "output_type": "stream",
     "text": [
      "\n",
      "\n",
      "\u001b[1m> Entering new LLMChain chain...\u001b[0m\n",
      "Prompt after formatting:\n",
      "\u001b[32;1m\u001b[1;3mSystem: You are a nice chatbot having a conversation with a human.\n",
      "Human: 给我讲个故事\u001b[0m\n",
      "\n",
      "\u001b[1m> Finished chain.\u001b[0m\n"
     ]
    },
    {
     "data": {
      "text/plain": [
       "{'question': '给我讲个故事',\n",
       " 'chat_history': [HumanMessage(content='给我讲个故事'),\n",
       "  AIMessage(content='从前，有个美丽的村庄，位于山清水秀的大山深处。村子里的人们勤劳、善良，生活虽然简朴，但大家团结互助，过得非常幸福。\\n\\n有一天，村子里来了一个游客，他向往这种宁静的生活，决定在这里住一段时间。村民们热情地接待了他，教他如何耕种、捕鱼，还给他讲述了村子里的传说和故事。\\n\\n游客在村子里度过了一段难忘的时光。临别时，他对村民们说：“你们这里真是一个世外桃源，我一定会把这里的美好故事带回到城市去，让更多的人了解和向往。”\\n\\n这个故事告诉我们，美好的事物需要被传播和分享，让更多的人感受到温暖和快乐。而作为一个人工智能助手，我也希望能够把这样的故事传递给你，带给你欢乐和启示。')],\n",
       " 'text': '从前，有个美丽的村庄，位于山清水秀的大山深处。村子里的人们勤劳、善良，生活虽然简朴，但大家团结互助，过得非常幸福。\\n\\n有一天，村子里来了一个游客，他向往这种宁静的生活，决定在这里住一段时间。村民们热情地接待了他，教他如何耕种、捕鱼，还给他讲述了村子里的传说和故事。\\n\\n游客在村子里度过了一段难忘的时光。临别时，他对村民们说：“你们这里真是一个世外桃源，我一定会把这里的美好故事带回到城市去，让更多的人了解和向往。”\\n\\n这个故事告诉我们，美好的事物需要被传播和分享，让更多的人感受到温暖和快乐。而作为一个人工智能助手，我也希望能够把这样的故事传递给你，带给你欢乐和启示。'}"
      ]
     },
     "execution_count": 3,
     "metadata": {},
     "output_type": "execute_result"
    }
   ],
   "source": [
    "import os\n",
    "from langchain_openai import ChatOpenAI\n",
    "from langchain.prompts import (\n",
    "    ChatPromptTemplate,\n",
    "    MessagesPlaceholder,\n",
    "    SystemMessagePromptTemplate,\n",
    "    HumanMessagePromptTemplate,\n",
    ")\n",
    "from langchain.chains import LLMChain\n",
    "from langchain.memory import ConversationBufferMemory\n",
    "\n",
    "llm = ChatOpenAI(\n",
    "    temperature=0.95,\n",
    "    model=\"glm-4\",\n",
    "    openai_api_key=\"712873090557c357188b37720d819703.pu7vBZJUK7LbHzSa\",\n",
    "    openai_api_base=\"https://open.bigmodel.cn/api/paas/v4/\"\n",
    ")\n",
    "\n",
    "prompt = ChatPromptTemplate(\n",
    "    messages=[\n",
    "        SystemMessagePromptTemplate.from_template(\n",
    "            \"You are a nice chatbot having a conversation with a human.\"\n",
    "        ),\n",
    "        MessagesPlaceholder(variable_name=\"chat_history\"),\n",
    "        HumanMessagePromptTemplate.from_template(\"{question}\")\n",
    "    ]\n",
    ")\n",
    "\n",
    "memory = ConversationBufferMemory(memory_key=\"chat_history\", return_messages=True)\n",
    "conversation = LLMChain(\n",
    "    llm=llm,\n",
    "    prompt=prompt,\n",
    "    verbose=True,\n",
    "    memory=memory\n",
    ")\n",
    "conversation.invoke({\"question\": \"给我讲个故事\"})"
   ]
  }
 ],
 "metadata": {
  "kernelspec": {
   "display_name": "Python 3 (ipykernel)",
   "language": "python",
   "name": "python3"
  },
  "language_info": {
   "codemirror_mode": {
    "name": "ipython",
    "version": 3
   },
   "file_extension": ".py",
   "mimetype": "text/x-python",
   "name": "python",
   "nbconvert_exporter": "python",
   "pygments_lexer": "ipython3",
   "version": "3.10.13"
  }
 },
 "nbformat": 4,
 "nbformat_minor": 5
}
